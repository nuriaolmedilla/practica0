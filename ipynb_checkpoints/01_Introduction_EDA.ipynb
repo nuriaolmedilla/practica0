{
 "cells": [
  {
   "cell_type": "code",
   "execution_count": null,
   "id": "0005dd11-e54d-4307-8687-4c064e515bb1",
   "metadata": {},
   "outputs": [],
   "source": [
    "import sweetviz as sv"
   ]
  },
  {
   "cell_type": "code",
   "execution_count": 4,
   "id": "d5ae6f97-7c95-47a4-a48d-d3a5adc4ecb3",
   "metadata": {},
   "outputs": [],
   "source": [
    "import pandas as pd"
   ]
  },
  {
   "cell_type": "code",
   "execution_count": 21,
   "id": "9660577d-bf17-4bb6-ae32-a272a165088b",
   "metadata": {},
   "outputs": [
    {
     "name": "stderr",
     "output_type": "stream",
     "text": [
      "/var/folders/n3/g12k88n56bv1y96nypydfs0w0000gn/T/ipykernel_25702/3931976249.py:2: DtypeWarning: Columns (0,1,2,3,4,7,13,19,24,25,27,28,29,30,31,32,33,34,36,38,39,40,41,42,43,44,45,46,48,51,52,53,54,55,57,58,60,61,62,63,64,65,66,67,68,69,70,71,72,73,74,75,76,77,78,79,80,81,82,83,84,85,86,87,88,89,90,91,92,93,94,95,96,97,98,99,100,101,102,103,104,105,106,107,108,109,110,111,112,113,114,115,116,117,118,119,120,121,122,123,124,125,126,127,132,133,137,138,140,141,142,148,149,150) have mixed types. Specify dtype option on import or set low_memory=False.\n",
      "  df = pd.read_csv(\"/Users/nuriaolmedillabahillo/Documents/ASIGNATURAS/APRENDIZAJE AUTOMÁTICO/practica0/data/Loan_test_set.csv\")\n"
     ]
    }
   ],
   "source": [
    "# Cargar el dataset\n",
    "df = pd.read_csv(\"/Users/nuriaolmedillabahillo/Documents/ASIGNATURAS/APRENDIZAJE AUTOMÁTICO/practica0/data/Loan_test_set.csv\")"
   ]
  }
 ],
 "metadata": {
  "kernelspec": {
   "display_name": "Python 3 (ipykernel)",
   "language": "python",
   "name": "python3"
  },
  "language_info": {
   "codemirror_mode": {
    "name": "ipython",
    "version": 3
   },
   "file_extension": ".py",
   "mimetype": "text/x-python",
   "name": "python",
   "nbconvert_exporter": "python",
   "pygments_lexer": "ipython3",
   "version": "3.12.4"
  }
 },
 "nbformat": 4,
 "nbformat_minor": 5
}
